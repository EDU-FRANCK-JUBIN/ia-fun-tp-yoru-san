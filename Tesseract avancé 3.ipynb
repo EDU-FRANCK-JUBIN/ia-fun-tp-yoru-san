{
 "cells": [
  {
   "cell_type": "code",
   "execution_count": 5,
   "metadata": {},
   "outputs": [
    {
     "name": "stdout",
     "output_type": "stream",
     "text": [
      "Nombre de pages: 6\n",
      "Page N° 1\n",
      "\n",
      "SEES\n",
      "\n",
      " \n",
      "\n",
      "Deep Learning\n",
      "\n",
      "OO — Syllabus\n",
      "\n",
      "FRANCK JUBIN\n",
      "Page N° 2\n",
      "\n",
      "\n",
      "Page N° 3\n",
      "\n",
      "Description\n",
      "\n",
      "Le Deep Learning est une forme d'intelligence artificielle qui dérive du Machine Learning. Au fur et a mesure de\n",
      "l'évolution du Machine Learning, différentes techniques ont été développées afin de créer des algorithmes capables\n",
      "d'apprendre de maniere autonome. Parmi ces techniques, l'une d'elle a été les réseaux de neurones artificiels sur\n",
      "\n",
      "laquelle se base le Deep Learning.\n",
      "Le Deep Learning met en jeu un réseau complexe de neurones artificielles interconnectés et nourrit par des bases de\n",
      "\n",
      "données de plus en plus titanesque. Cette majeure vise a présenter le réseau de neurones, comprendre les techniques\n",
      "\n",
      "d'optimisation, les types d'architectures et la maniere de debugger un algorithme de deep learning.\n",
      "\n",
      "Franck Jubin - 2020\n",
      "Page N° 4\n",
      "\n",
      "Objectifs pedagogiques\n",
      "\n",
      "- Comprendre le fonctionnement de l’apprentissage de réseaux de neurones a une puis plusieurs couches\n",
      "¢ Créer et optimiser des réseaux de neurones sur données structurées\n",
      "\n",
      "- Debugger un algorithme de Deep Learning\n",
      "\n",
      "¢ Mettreen place différentes architectures de réseaux de neurones (CNN, RNN, GAN...)\n",
      "\n",
      "¢ Comprendre l'utilisation d'un réseau pour du Transfer Learning ou du Multi Task Learning\n",
      "\n",
      "Franck Jubin - 2020\n",
      "Page N° 5\n",
      "\n",
      "Programme\n",
      "\n",
      "01 — Introduction\n",
      "\n",
      "02 — JAfun\n",
      "\n",
      "03 — Data et prédiction\n",
      "o4 — Python et librairies\n",
      "05 — Machine Learning\n",
      "\n",
      "Et le reste\n",
      "\n",
      "Franck Jubin - 2020\n",
      "Page N° 6\n",
      "\n",
      "\n"
     ]
    }
   ],
   "source": [
    "from pdf2image import convert_from_path, convert_from_bytes\n",
    "try:\n",
    "    from PIL import Image\n",
    "except ImportError:\n",
    "    import Image\n",
    "    \n",
    "import pytesseract\n",
    "from pytesseract import Output\n",
    "\n",
    "pytesseract.pytesseract.tesseract_cmd = r'C:\\Program Files\\Tesseract-OCR\\tesseract.exe'\n",
    "\n",
    "images = convert_from_path(r'./tesseract/pdf_test.pdf')\n",
    "print(\"Nombre de pages: \" + str(len(images)))\n",
    "\n",
    "for i in range(len(images)):\n",
    "    print(\"Page N° \" + str(i+1) + \"\\n\")\n",
    "    print(pytesseract.image_to_string(images[i]))"
   ]
  },
  {
   "cell_type": "code",
   "execution_count": null,
   "metadata": {},
   "outputs": [],
   "source": []
  }
 ],
 "metadata": {
  "kernelspec": {
   "display_name": "Python 3",
   "language": "python",
   "name": "python3"
  },
  "language_info": {
   "codemirror_mode": {
    "name": "ipython",
    "version": 3
   },
   "file_extension": ".py",
   "mimetype": "text/x-python",
   "name": "python",
   "nbconvert_exporter": "python",
   "pygments_lexer": "ipython3",
   "version": "3.7.4"
  }
 },
 "nbformat": 4,
 "nbformat_minor": 2
}
